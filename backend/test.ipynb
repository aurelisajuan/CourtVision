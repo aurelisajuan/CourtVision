{
 "cells": [
  {
   "cell_type": "code",
   "execution_count": 1,
   "metadata": {},
   "outputs": [
    {
     "data": {
      "text/plain": [
       "True"
      ]
     },
     "execution_count": 1,
     "metadata": {},
     "output_type": "execute_result"
    }
   ],
   "source": [
    "import base64\n",
    "import os\n",
    "from google import genai\n",
    "from google.genai import types\n",
    "from dotenv import load_dotenv\n",
    "\n",
    "load_dotenv()"
   ]
  },
  {
   "cell_type": "code",
   "execution_count": 2,
   "metadata": {},
   "outputs": [],
   "source": [
    "\n",
    "def generate():\n",
    "    client = genai.Client(\n",
    "        api_key=os.environ.get(\"GEMINI_API_KEY\"),\n",
    "    )\n",
    "\n",
    "    model = \"gemini-2.5-pro\"\n",
    "    contents = [\n",
    "        types.Content(\n",
    "            role=\"user\",\n",
    "            parts=[\n",
    "                types.Part.from_text(text=\"\"\"hi\"\"\"),\n",
    "            ],\n",
    "        ),\n",
    "        types.Content(\n",
    "            role=\"model\",\n",
    "            parts=[\n",
    "                types.Part.from_text(text=\"\"\"**Understanding the Greeting**\n",
    "\n",
    "                I've identified the user's input as \\\"hi.\\\" I've analyzed it as a simple, conversational greeting. The intent seems to be the initiation of a dialogue, with no specific query or directive. I'm focusing on acknowledging this opening move.\n",
    "\n",
    "\n",
    "                **Drafting the Replies**\n",
    "\n",
    "                I've considered several reply options to the simple \\\"hi.\\\" I'm prioritizing acknowledgments that are friendly and encourage further interaction. I've drafted responses ranging from straightforward greetings to more conversational and engaging options, aiming for a balance between helpfulness and a welcoming tone. My current focus is refining the draft that offers assistance directly after the initial greeting, aiming for a natural flow.\n",
    "\n",
    "\n",
    "                **Combining Elements for Impact**\n",
    "\n",
    "                I've refined the list of possible responses, drawing from the strengths of the previous drafts. I'm leaning toward a concise and friendly greeting paired with a clear offer of assistance. I aim to convey both warmth and helpfulness in a natural manner. Now, I'm working to choose the best way to combine the preferred elements to find the most effective and professional reply.\n",
    "\n",
    "\n",
    "                **Choosing the Perfect Reply**\n",
    "\n",
    "                I've made the final decision: \\\"Hello! How can I help you today?\\\" feels the most natural and effective. It's concise, welcoming, and directly points towards my role. This response is now ready for implementation, ensuring a friendly and helpful initial interaction with the user.\n",
    "\n",
    "\n",
    "                \"\"\"),\n",
    "                types.Part.from_text(text=\"\"\"Hello! How can I help you today?\"\"\"),\n",
    "            ],\n",
    "        ),\n",
    "        types.Content(\n",
    "            role=\"user\",\n",
    "            parts=[\n",
    "                types.Part.from_text(text=\"\"\"INSERT_INPUT_HERE\"\"\"),\n",
    "            ],\n",
    "        ),\n",
    "    ]\n",
    "    generate_content_config = types.GenerateContentConfig(\n",
    "        thinking_config = types.ThinkingConfig(\n",
    "            thinking_budget=-1,\n",
    "        ),\n",
    "        response_mime_type=\"text/plain\",\n",
    "    )\n",
    "\n",
    "    for chunk in client.models.generate_content_stream(\n",
    "        model=model,\n",
    "        contents=contents,\n",
    "        config=generate_content_config,\n",
    "    ):\n",
    "        print(chunk.text, end=\"\")\n"
   ]
  },
  {
   "cell_type": "code",
   "execution_count": 3,
   "metadata": {},
   "outputs": [
    {
     "name": "stdout",
     "output_type": "stream",
     "text": [
      "It seems you've entered a placeholder. I'm ready when you are!\n",
      "\n",
      "Please go ahead and type your actual question or request. I'll do my best to help."
     ]
    }
   ],
   "source": [
    "generate()"
   ]
  }
 ],
 "metadata": {
  "kernelspec": {
   "display_name": "easyvolcap",
   "language": "python",
   "name": "python3"
  },
  "language_info": {
   "codemirror_mode": {
    "name": "ipython",
    "version": 3
   },
   "file_extension": ".py",
   "mimetype": "text/x-python",
   "name": "python",
   "nbconvert_exporter": "python",
   "pygments_lexer": "ipython3",
   "version": "3.11.13"
  }
 },
 "nbformat": 4,
 "nbformat_minor": 2
}
